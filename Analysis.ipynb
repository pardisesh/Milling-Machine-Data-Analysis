{
 "cells": [
  {
   "cell_type": "code",
   "execution_count": 1,
   "metadata": {},
   "outputs": [],
   "source": [
    "from random import random\n",
    "import pandas as pd"
   ]
  },
  {
   "cell_type": "markdown",
   "metadata": {},
   "source": [
    "### Deley"
   ]
  },
  {
   "cell_type": "code",
   "execution_count": 98,
   "metadata": {},
   "outputs": [],
   "source": [
    "def delay():\n",
    "    p = random()\n",
    "    if p <= 0.6:\n",
    "        return(5)\n",
    "    elif p <= 0.9:\n",
    "        return(10)\n",
    "    elif p <= 1:\n",
    "        return(15)"
   ]
  },
  {
   "cell_type": "markdown",
   "metadata": {},
   "source": [
    "###  Bearings life probability"
   ]
  },
  {
   "cell_type": "code",
   "execution_count": 99,
   "metadata": {},
   "outputs": [],
   "source": [
    "def bearing_life():\n",
    "    p = random()\n",
    "    \n",
    "    if p <= 0.1:\n",
    "        return(1000)\n",
    "    elif p <= 0.23:\n",
    "        return(1100)\n",
    "    elif p <= 0.48:\n",
    "        return(1200)\n",
    "    elif p <= 0.61:\n",
    "        return(1300)\n",
    "    elif p <= 0.70:\n",
    "        return(1400)\n",
    "    elif p <= 0.82:\n",
    "        return(1500)\n",
    "    elif p <= 0.84:\n",
    "        return(1600)\n",
    "    elif p <= 0.90:\n",
    "        return(1700)\n",
    "    elif p <= 0.95:\n",
    "        return(1800)\n",
    "    elif p <= 1.00:\n",
    "        return(1900)"
   ]
  },
  {
   "cell_type": "markdown",
   "metadata": {},
   "source": [
    "## Values"
   ]
  },
  {
   "cell_type": "code",
   "execution_count": 270,
   "metadata": {},
   "outputs": [],
   "source": [
    "bearing_price = 32\n",
    "dead_cost = 10\n",
    "sale_mechanic = 30\n",
    "one_bearing = 20\n",
    "tow_bearing = 30\n",
    "three_bearing = 40\n",
    "steps = 150"
   ]
  },
  {
   "cell_type": "code",
   "execution_count": 280,
   "metadata": {},
   "outputs": [
    {
     "name": "stdout",
     "output_type": "stream",
     "text": [
      "14400\n",
      "34500\n",
      "60000.0\n",
      "3000.0\n",
      "111900.0\n",
      "589800\n",
      "18743.718592964826\n"
     ]
    }
   ],
   "source": [
    "columns = ['Step','Life time B1','delay B1','Life time B2','delay B2','Life time B3','delay B3']\n",
    "df = pd.DataFrame(columns = columns)\n",
    "\n",
    "sum_b1_life = 0\n",
    "sum_b1_delay = 0\n",
    "\n",
    "sum_b2_life = 0\n",
    "sum_b2_delay = 0\n",
    "\n",
    "sum_b3_life = 0\n",
    "sum_b3_delay = 0\n",
    "\n",
    "\n",
    "\n",
    "for step in range(1,steps + 1):\n",
    "    \n",
    "    b1_life = bearing_life()\n",
    "    b1_delay = delay()\n",
    "    sum_b1_life += b1_life\n",
    "    sum_b1_delay += b1_delay\n",
    "    \n",
    "    b2_life = bearing_life()\n",
    "    b2_delay = delay()\n",
    "    sum_b2_life += b1_life\n",
    "    sum_b2_delay += b1_delay\n",
    "    \n",
    "    b3_life = bearing_life()\n",
    "    b3_delay = delay()\n",
    "    sum_b3_life += b1_life\n",
    "    sum_b3_delay += b1_delay\n",
    "    \n",
    "    # columns = ['Step','Life time B1','delay B1','Life time B2','delay B2','Life time B3','delay B3']\n",
    "    data = {'Step':step, 'Life time B1' : b1_life,\n",
    "            'delay B1' : b1_delay,\n",
    "            'Life time B2' : b2_life,\n",
    "            'delay B2' : b2_delay,\n",
    "            'Life time B3' : b3_life,\n",
    "            'delay B3' : b3_delay\n",
    "           }\n",
    "    data_csv = [step, b1_life, b1_delay, b2_life, b2_delay, b3_life, b3_delay]\n",
    "    df = df.append(data, ignore_index=True)\n",
    "    \n",
    "data_sum = {'Step':step, 'Life time B1' : sum_b1_life,\n",
    "            'delay B1' : sum_b1_delay,\n",
    "            'Life time B2' : sum_b2_life,\n",
    "            'delay B2' : sum_b2_delay,\n",
    "            'Life time B3' : sum_b3_life,\n",
    "            'delay B3' : sum_b3_delay\n",
    "            }  \n",
    "data_sum_csv = ['TOTALS', sum_b1_life, sum_b1_delay, sum_b2_life, sum_b2_delay, sum_b3_life, sum_b3_delay] \n",
    "# df = df.append(data_sum, ignore_index=True)\n",
    "\n",
    "\n",
    "Cost_of_bearing = steps*3 * 32\n",
    "print(Cost_of_bearing)\n",
    "Cost_of_delay_time = 10 * (sum_b1_delay + sum_b2_delay + sum_b3_delay)\n",
    "print(Cost_of_delay_time)\n",
    "Cost_of_downtime_during_repair = (steps*3) * (three_bearing/3) * 10\n",
    "print(Cost_of_downtime_during_repair)\n",
    "Cost_of_mechanics = (steps*3) * (three_bearing/3) * (30/60)\n",
    "print(Cost_of_mechanics)\n",
    "Total_cost = Cost_of_bearing + Cost_of_delay_time + Cost_of_downtime_during_repair + Cost_of_mechanics\n",
    "print(Total_cost)\n",
    "\n",
    "total_life_bearings = (sum_b1_life + sum_b2_life + sum_b3_life)\n",
    "print(total_life_bearings)"
   ]
  },
  {
   "cell_type": "code",
   "execution_count": null,
   "metadata": {},
   "outputs": [],
   "source": []
  }
 ],
 "metadata": {
  "kernelspec": {
   "display_name": "Python 3",
   "language": "python",
   "name": "python3"
  },
  "language_info": {
   "codemirror_mode": {
    "name": "ipython",
    "version": 3
   },
   "file_extension": ".py",
   "mimetype": "text/x-python",
   "name": "python",
   "nbconvert_exporter": "python",
   "pygments_lexer": "ipython3",
   "version": "3.8.5"
  }
 },
 "nbformat": 4,
 "nbformat_minor": 5
}
